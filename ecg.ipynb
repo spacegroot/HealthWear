{
  "metadata": {
    "kernelspec": {
      "language": "python",
      "display_name": "Python 3",
      "name": "python3"
    },
    "language_info": {
      "pygments_lexer": "ipython3",
      "nbconvert_exporter": "python",
      "version": "3.6.4",
      "file_extension": ".py",
      "codemirror_mode": {
        "name": "ipython",
        "version": 3
      },
      "name": "python",
      "mimetype": "text/x-python"
    },
    "colab": {
      "name": "ecg.ipynb",
      "provenance": [],
      "collapsed_sections": []
    }
  },
  "nbformat_minor": 0,
  "nbformat": 4,
  "cells": [
    {
      "cell_type": "markdown",
      "source": [
        "# TinyML ECG Classification"
      ],
      "metadata": {
        "id": "Q4Ww-pnVnm9U"
      }
    },
    {
      "cell_type": "code",
      "source": [
        "import numpy as np\n",
        "import pandas as pd \n",
        "import matplotlib.pyplot as plt"
      ],
      "metadata": {
        "execution": {
          "iopub.status.busy": "2022-05-19T22:16:24.874539Z",
          "iopub.execute_input": "2022-05-19T22:16:24.875192Z",
          "iopub.status.idle": "2022-05-19T22:16:24.912463Z",
          "shell.execute_reply.started": "2022-05-19T22:16:24.875032Z",
          "shell.execute_reply": "2022-05-19T22:16:24.911273Z"
        },
        "trusted": true,
        "id": "wZX6DSpInm9f"
      },
      "execution_count": 2,
      "outputs": []
    },
    {
      "cell_type": "markdown",
      "source": [
        "## Read Dataset"
      ],
      "metadata": {
        "id": "7yT5P4EJnm9k"
      }
    },
    {
      "cell_type": "code",
      "source": [
        "!pip install kaggle\n",
        "!mkdir ~/.kaggle\n",
        "!cp /content/kaggle.json ~/.kaggle/\n",
        "! chmod 600 ~/.kaggle/kaggle.json"
      ],
      "metadata": {
        "colab": {
          "base_uri": "https://localhost:8080/"
        },
        "id": "NuCupEE-oqFu",
        "outputId": "9677dd7a-f7fe-4254-b159-f5208cdd3c5a"
      },
      "execution_count": 8,
      "outputs": [
        {
          "output_type": "stream",
          "name": "stdout",
          "text": [
            "Looking in indexes: https://pypi.org/simple, https://us-python.pkg.dev/colab-wheels/public/simple/\n",
            "Requirement already satisfied: kaggle in /usr/local/lib/python3.7/dist-packages (1.5.12)\n",
            "Requirement already satisfied: python-dateutil in /usr/local/lib/python3.7/dist-packages (from kaggle) (2.8.2)\n",
            "Requirement already satisfied: requests in /usr/local/lib/python3.7/dist-packages (from kaggle) (2.23.0)\n",
            "Requirement already satisfied: certifi in /usr/local/lib/python3.7/dist-packages (from kaggle) (2022.5.18.1)\n",
            "Requirement already satisfied: six>=1.10 in /usr/local/lib/python3.7/dist-packages (from kaggle) (1.15.0)\n",
            "Requirement already satisfied: python-slugify in /usr/local/lib/python3.7/dist-packages (from kaggle) (6.1.2)\n",
            "Requirement already satisfied: tqdm in /usr/local/lib/python3.7/dist-packages (from kaggle) (4.64.0)\n",
            "Requirement already satisfied: urllib3 in /usr/local/lib/python3.7/dist-packages (from kaggle) (1.24.3)\n",
            "Requirement already satisfied: text-unidecode>=1.3 in /usr/local/lib/python3.7/dist-packages (from python-slugify->kaggle) (1.3)\n",
            "Requirement already satisfied: chardet<4,>=3.0.2 in /usr/local/lib/python3.7/dist-packages (from requests->kaggle) (3.0.4)\n",
            "Requirement already satisfied: idna<3,>=2.5 in /usr/local/lib/python3.7/dist-packages (from requests->kaggle) (2.10)\n",
            "mkdir: cannot create directory ‘/root/.kaggle’: File exists\n"
          ]
        }
      ]
    },
    {
      "cell_type": "code",
      "source": [
        "# !kaggle competitions download -c diabetes-classification\n",
        "!kaggle datasets download -d shayanfazeli/heartbeat"
      ],
      "metadata": {
        "colab": {
          "base_uri": "https://localhost:8080/"
        },
        "id": "FE7cNSrZpAyy",
        "outputId": "0c7c33ac-6a5a-4635-c34c-379db933bdbb"
      },
      "execution_count": 9,
      "outputs": [
        {
          "output_type": "stream",
          "name": "stdout",
          "text": [
            "Downloading heartbeat.zip to /content\n",
            " 98% 97.0M/98.8M [00:05<00:00, 20.1MB/s]\n",
            "100% 98.8M/98.8M [00:05<00:00, 19.7MB/s]\n"
          ]
        }
      ]
    },
    {
      "cell_type": "code",
      "source": [
        "!unzip /content/heartbeat.zip"
      ],
      "metadata": {
        "colab": {
          "base_uri": "https://localhost:8080/"
        },
        "id": "HYmMx-O6o-ml",
        "outputId": "3d702719-e0cf-49d7-ad9b-461c25596bc2"
      },
      "execution_count": 10,
      "outputs": [
        {
          "output_type": "stream",
          "name": "stdout",
          "text": [
            "Archive:  /content/heartbeat.zip\n",
            "  inflating: mitbih_test.csv         \n",
            "  inflating: mitbih_train.csv        \n",
            "  inflating: ptbdb_abnormal.csv      \n",
            "  inflating: ptbdb_normal.csv        \n"
          ]
        }
      ]
    },
    {
      "cell_type": "code",
      "source": [
        "df_train = pd.read_csv(\"/content/mitbih_train.csv\", header=None)\n",
        "df_test = pd.read_csv(\"/content/mitbih_test---.csv\", header=None)\n",
        "df_test_x = pd.read_csv(\"/content/testdata.csv\")\n",
        "df_train.head()"
      ],
      "metadata": {
        "_cell_guid": "79c7e3d0-c299-4dcb-8224-4455121ee9b0",
        "_uuid": "d629ff2d2480ee46fbb7e2d37f6b5fab8052498a",
        "execution": {
          "iopub.status.busy": "2022-05-19T22:16:24.916394Z",
          "iopub.execute_input": "2022-05-19T22:16:24.917448Z",
          "iopub.status.idle": "2022-05-19T22:16:35.556797Z",
          "shell.execute_reply.started": "2022-05-19T22:16:24.917387Z",
          "shell.execute_reply": "2022-05-19T22:16:35.555465Z"
        },
        "trusted": true,
        "colab": {
          "base_uri": "https://localhost:8080/",
          "height": 236
        },
        "id": "l3kEz3UVnm9l",
        "outputId": "b1da0534-46d3-47a5-bf5a-18434f366e3b"
      },
      "execution_count": 11,
      "outputs": [
        {
          "output_type": "execute_result",
          "data": {
            "text/plain": [
              "        0         1         2         3         4         5         6    \\\n",
              "0  0.977941  0.926471  0.681373  0.245098  0.154412  0.191176  0.151961   \n",
              "1  0.960114  0.863248  0.461538  0.196581  0.094017  0.125356  0.099715   \n",
              "2  1.000000  0.659459  0.186486  0.070270  0.070270  0.059459  0.056757   \n",
              "3  0.925414  0.665746  0.541436  0.276243  0.196133  0.077348  0.071823   \n",
              "4  0.967136  1.000000  0.830986  0.586854  0.356808  0.248826  0.145540   \n",
              "\n",
              "        7         8         9    ...  178  179  180  181  182  183  184  185  \\\n",
              "0  0.085784  0.058824  0.049020  ...  0.0  0.0  0.0  0.0  0.0  0.0  0.0  0.0   \n",
              "1  0.088319  0.074074  0.082621  ...  0.0  0.0  0.0  0.0  0.0  0.0  0.0  0.0   \n",
              "2  0.043243  0.054054  0.045946  ...  0.0  0.0  0.0  0.0  0.0  0.0  0.0  0.0   \n",
              "3  0.060773  0.066298  0.058011  ...  0.0  0.0  0.0  0.0  0.0  0.0  0.0  0.0   \n",
              "4  0.089202  0.117371  0.150235  ...  0.0  0.0  0.0  0.0  0.0  0.0  0.0  0.0   \n",
              "\n",
              "   186  187  \n",
              "0  0.0  0.0  \n",
              "1  0.0  0.0  \n",
              "2  0.0  0.0  \n",
              "3  0.0  0.0  \n",
              "4  0.0  0.0  \n",
              "\n",
              "[5 rows x 188 columns]"
            ],
            "text/html": [
              "\n",
              "  <div id=\"df-2cd28899-87c4-4e9b-aad9-02b3833062ed\">\n",
              "    <div class=\"colab-df-container\">\n",
              "      <div>\n",
              "<style scoped>\n",
              "    .dataframe tbody tr th:only-of-type {\n",
              "        vertical-align: middle;\n",
              "    }\n",
              "\n",
              "    .dataframe tbody tr th {\n",
              "        vertical-align: top;\n",
              "    }\n",
              "\n",
              "    .dataframe thead th {\n",
              "        text-align: right;\n",
              "    }\n",
              "</style>\n",
              "<table border=\"1\" class=\"dataframe\">\n",
              "  <thead>\n",
              "    <tr style=\"text-align: right;\">\n",
              "      <th></th>\n",
              "      <th>0</th>\n",
              "      <th>1</th>\n",
              "      <th>2</th>\n",
              "      <th>3</th>\n",
              "      <th>4</th>\n",
              "      <th>5</th>\n",
              "      <th>6</th>\n",
              "      <th>7</th>\n",
              "      <th>8</th>\n",
              "      <th>9</th>\n",
              "      <th>...</th>\n",
              "      <th>178</th>\n",
              "      <th>179</th>\n",
              "      <th>180</th>\n",
              "      <th>181</th>\n",
              "      <th>182</th>\n",
              "      <th>183</th>\n",
              "      <th>184</th>\n",
              "      <th>185</th>\n",
              "      <th>186</th>\n",
              "      <th>187</th>\n",
              "    </tr>\n",
              "  </thead>\n",
              "  <tbody>\n",
              "    <tr>\n",
              "      <th>0</th>\n",
              "      <td>0.977941</td>\n",
              "      <td>0.926471</td>\n",
              "      <td>0.681373</td>\n",
              "      <td>0.245098</td>\n",
              "      <td>0.154412</td>\n",
              "      <td>0.191176</td>\n",
              "      <td>0.151961</td>\n",
              "      <td>0.085784</td>\n",
              "      <td>0.058824</td>\n",
              "      <td>0.049020</td>\n",
              "      <td>...</td>\n",
              "      <td>0.0</td>\n",
              "      <td>0.0</td>\n",
              "      <td>0.0</td>\n",
              "      <td>0.0</td>\n",
              "      <td>0.0</td>\n",
              "      <td>0.0</td>\n",
              "      <td>0.0</td>\n",
              "      <td>0.0</td>\n",
              "      <td>0.0</td>\n",
              "      <td>0.0</td>\n",
              "    </tr>\n",
              "    <tr>\n",
              "      <th>1</th>\n",
              "      <td>0.960114</td>\n",
              "      <td>0.863248</td>\n",
              "      <td>0.461538</td>\n",
              "      <td>0.196581</td>\n",
              "      <td>0.094017</td>\n",
              "      <td>0.125356</td>\n",
              "      <td>0.099715</td>\n",
              "      <td>0.088319</td>\n",
              "      <td>0.074074</td>\n",
              "      <td>0.082621</td>\n",
              "      <td>...</td>\n",
              "      <td>0.0</td>\n",
              "      <td>0.0</td>\n",
              "      <td>0.0</td>\n",
              "      <td>0.0</td>\n",
              "      <td>0.0</td>\n",
              "      <td>0.0</td>\n",
              "      <td>0.0</td>\n",
              "      <td>0.0</td>\n",
              "      <td>0.0</td>\n",
              "      <td>0.0</td>\n",
              "    </tr>\n",
              "    <tr>\n",
              "      <th>2</th>\n",
              "      <td>1.000000</td>\n",
              "      <td>0.659459</td>\n",
              "      <td>0.186486</td>\n",
              "      <td>0.070270</td>\n",
              "      <td>0.070270</td>\n",
              "      <td>0.059459</td>\n",
              "      <td>0.056757</td>\n",
              "      <td>0.043243</td>\n",
              "      <td>0.054054</td>\n",
              "      <td>0.045946</td>\n",
              "      <td>...</td>\n",
              "      <td>0.0</td>\n",
              "      <td>0.0</td>\n",
              "      <td>0.0</td>\n",
              "      <td>0.0</td>\n",
              "      <td>0.0</td>\n",
              "      <td>0.0</td>\n",
              "      <td>0.0</td>\n",
              "      <td>0.0</td>\n",
              "      <td>0.0</td>\n",
              "      <td>0.0</td>\n",
              "    </tr>\n",
              "    <tr>\n",
              "      <th>3</th>\n",
              "      <td>0.925414</td>\n",
              "      <td>0.665746</td>\n",
              "      <td>0.541436</td>\n",
              "      <td>0.276243</td>\n",
              "      <td>0.196133</td>\n",
              "      <td>0.077348</td>\n",
              "      <td>0.071823</td>\n",
              "      <td>0.060773</td>\n",
              "      <td>0.066298</td>\n",
              "      <td>0.058011</td>\n",
              "      <td>...</td>\n",
              "      <td>0.0</td>\n",
              "      <td>0.0</td>\n",
              "      <td>0.0</td>\n",
              "      <td>0.0</td>\n",
              "      <td>0.0</td>\n",
              "      <td>0.0</td>\n",
              "      <td>0.0</td>\n",
              "      <td>0.0</td>\n",
              "      <td>0.0</td>\n",
              "      <td>0.0</td>\n",
              "    </tr>\n",
              "    <tr>\n",
              "      <th>4</th>\n",
              "      <td>0.967136</td>\n",
              "      <td>1.000000</td>\n",
              "      <td>0.830986</td>\n",
              "      <td>0.586854</td>\n",
              "      <td>0.356808</td>\n",
              "      <td>0.248826</td>\n",
              "      <td>0.145540</td>\n",
              "      <td>0.089202</td>\n",
              "      <td>0.117371</td>\n",
              "      <td>0.150235</td>\n",
              "      <td>...</td>\n",
              "      <td>0.0</td>\n",
              "      <td>0.0</td>\n",
              "      <td>0.0</td>\n",
              "      <td>0.0</td>\n",
              "      <td>0.0</td>\n",
              "      <td>0.0</td>\n",
              "      <td>0.0</td>\n",
              "      <td>0.0</td>\n",
              "      <td>0.0</td>\n",
              "      <td>0.0</td>\n",
              "    </tr>\n",
              "  </tbody>\n",
              "</table>\n",
              "<p>5 rows × 188 columns</p>\n",
              "</div>\n",
              "      <button class=\"colab-df-convert\" onclick=\"convertToInteractive('df-2cd28899-87c4-4e9b-aad9-02b3833062ed')\"\n",
              "              title=\"Convert this dataframe to an interactive table.\"\n",
              "              style=\"display:none;\">\n",
              "        \n",
              "  <svg xmlns=\"http://www.w3.org/2000/svg\" height=\"24px\"viewBox=\"0 0 24 24\"\n",
              "       width=\"24px\">\n",
              "    <path d=\"M0 0h24v24H0V0z\" fill=\"none\"/>\n",
              "    <path d=\"M18.56 5.44l.94 2.06.94-2.06 2.06-.94-2.06-.94-.94-2.06-.94 2.06-2.06.94zm-11 1L8.5 8.5l.94-2.06 2.06-.94-2.06-.94L8.5 2.5l-.94 2.06-2.06.94zm10 10l.94 2.06.94-2.06 2.06-.94-2.06-.94-.94-2.06-.94 2.06-2.06.94z\"/><path d=\"M17.41 7.96l-1.37-1.37c-.4-.4-.92-.59-1.43-.59-.52 0-1.04.2-1.43.59L10.3 9.45l-7.72 7.72c-.78.78-.78 2.05 0 2.83L4 21.41c.39.39.9.59 1.41.59.51 0 1.02-.2 1.41-.59l7.78-7.78 2.81-2.81c.8-.78.8-2.07 0-2.86zM5.41 20L4 18.59l7.72-7.72 1.47 1.35L5.41 20z\"/>\n",
              "  </svg>\n",
              "      </button>\n",
              "      \n",
              "  <style>\n",
              "    .colab-df-container {\n",
              "      display:flex;\n",
              "      flex-wrap:wrap;\n",
              "      gap: 12px;\n",
              "    }\n",
              "\n",
              "    .colab-df-convert {\n",
              "      background-color: #E8F0FE;\n",
              "      border: none;\n",
              "      border-radius: 50%;\n",
              "      cursor: pointer;\n",
              "      display: none;\n",
              "      fill: #1967D2;\n",
              "      height: 32px;\n",
              "      padding: 0 0 0 0;\n",
              "      width: 32px;\n",
              "    }\n",
              "\n",
              "    .colab-df-convert:hover {\n",
              "      background-color: #E2EBFA;\n",
              "      box-shadow: 0px 1px 2px rgba(60, 64, 67, 0.3), 0px 1px 3px 1px rgba(60, 64, 67, 0.15);\n",
              "      fill: #174EA6;\n",
              "    }\n",
              "\n",
              "    [theme=dark] .colab-df-convert {\n",
              "      background-color: #3B4455;\n",
              "      fill: #D2E3FC;\n",
              "    }\n",
              "\n",
              "    [theme=dark] .colab-df-convert:hover {\n",
              "      background-color: #434B5C;\n",
              "      box-shadow: 0px 1px 3px 1px rgba(0, 0, 0, 0.15);\n",
              "      filter: drop-shadow(0px 1px 2px rgba(0, 0, 0, 0.3));\n",
              "      fill: #FFFFFF;\n",
              "    }\n",
              "  </style>\n",
              "\n",
              "      <script>\n",
              "        const buttonEl =\n",
              "          document.querySelector('#df-2cd28899-87c4-4e9b-aad9-02b3833062ed button.colab-df-convert');\n",
              "        buttonEl.style.display =\n",
              "          google.colab.kernel.accessAllowed ? 'block' : 'none';\n",
              "\n",
              "        async function convertToInteractive(key) {\n",
              "          const element = document.querySelector('#df-2cd28899-87c4-4e9b-aad9-02b3833062ed');\n",
              "          const dataTable =\n",
              "            await google.colab.kernel.invokeFunction('convertToInteractive',\n",
              "                                                     [key], {});\n",
              "          if (!dataTable) return;\n",
              "\n",
              "          const docLinkHtml = 'Like what you see? Visit the ' +\n",
              "            '<a target=\"_blank\" href=https://colab.research.google.com/notebooks/data_table.ipynb>data table notebook</a>'\n",
              "            + ' to learn more about interactive tables.';\n",
              "          element.innerHTML = '';\n",
              "          dataTable['output_type'] = 'display_data';\n",
              "          await google.colab.output.renderOutput(dataTable, element);\n",
              "          const docLink = document.createElement('div');\n",
              "          docLink.innerHTML = docLinkHtml;\n",
              "          element.appendChild(docLink);\n",
              "        }\n",
              "      </script>\n",
              "    </div>\n",
              "  </div>\n",
              "  "
            ]
          },
          "metadata": {},
          "execution_count": 11
        }
      ]
    },
    {
      "cell_type": "code",
      "source": [
        "# df[187] is y (class 0~4)\n",
        "print(df_train[187].value_counts())\n",
        "print(df_test[187].value_counts())"
      ],
      "metadata": {
        "_uuid": "0fac0fb658ea34b48055838b4ad85078e883360d",
        "execution": {
          "iopub.status.busy": "2022-05-19T22:16:35.558575Z",
          "iopub.execute_input": "2022-05-19T22:16:35.558906Z",
          "iopub.status.idle": "2022-05-19T22:16:35.578954Z",
          "shell.execute_reply.started": "2022-05-19T22:16:35.558862Z",
          "shell.execute_reply": "2022-05-19T22:16:35.57784Z"
        },
        "trusted": true,
        "colab": {
          "base_uri": "https://localhost:8080/"
        },
        "id": "p5USvkQZnm9n",
        "outputId": "3f7ccb9b-5181-4bd4-b27b-56a4fa088a49"
      },
      "execution_count": 12,
      "outputs": [
        {
          "output_type": "stream",
          "name": "stdout",
          "text": [
            "0.0    72471\n",
            "4.0     6431\n",
            "2.0     5788\n",
            "1.0     2223\n",
            "3.0      641\n",
            "Name: 187, dtype: int64\n",
            "0.0    18103\n",
            "4.0     1608\n",
            "2.0     1448\n",
            "1.0      556\n",
            "3.0      162\n",
            "Name: 187, dtype: int64\n"
          ]
        }
      ]
    },
    {
      "cell_type": "code",
      "source": [
        "df_test[0][0] = 1.0"
      ],
      "metadata": {
        "id": "uwF77dsM1ACW"
      },
      "execution_count": 13,
      "outputs": []
    },
    {
      "cell_type": "markdown",
      "source": [
        "## Prepare Dataset"
      ],
      "metadata": {
        "_uuid": "c42605d020fd51885437f4af3cf10cebbeafc9bb",
        "id": "vn0bWNDOnm9o"
      }
    },
    {
      "cell_type": "code",
      "source": [
        "X_train = df_train.values[:, :-1]\n",
        "y_train = df_train.values[:, -1].astype(int)\n",
        "\n",
        "X_test  = df_test.values[:, :-1]\n",
        "y_test  = df_test.values[:, -1].astype(int)\n",
        "\n",
        "# testx,testy = df_test.values[:,-1]\n",
        "testx,testy = df_test_x.values[:,:-1],df_test_x.values[:,-1].astype(int)\n",
        "print(X_train.shape)\n",
        "print(X_test.shape)\n",
        "print(y_train.shape)\n",
        "print(y_test.shape)\n",
        "print(testx.shape)\n",
        "print(testy.shape)"
      ],
      "metadata": {
        "execution": {
          "iopub.status.busy": "2022-05-19T22:16:35.581035Z",
          "iopub.execute_input": "2022-05-19T22:16:35.581408Z",
          "iopub.status.idle": "2022-05-19T22:16:35.592766Z",
          "shell.execute_reply.started": "2022-05-19T22:16:35.581357Z",
          "shell.execute_reply": "2022-05-19T22:16:35.59115Z"
        },
        "trusted": true,
        "colab": {
          "base_uri": "https://localhost:8080/"
        },
        "id": "EoBdmqasnm9p",
        "outputId": "c653fe4e-f82c-422b-8396-8a8dacf1e19e"
      },
      "execution_count": 14,
      "outputs": [
        {
          "output_type": "stream",
          "name": "stdout",
          "text": [
            "(87554, 187)\n",
            "(21877, 187)\n",
            "(87554,)\n",
            "(21877,)\n",
            "(14, 187)\n",
            "(14,)\n"
          ]
        }
      ]
    },
    {
      "cell_type": "code",
      "source": [
        "# print(x_test.shape)\n",
        "# print(y_test.shape)"
      ],
      "metadata": {
        "colab": {
          "base_uri": "https://localhost:8080/",
          "height": 182
        },
        "id": "SHpsxUsI6_z0",
        "outputId": "676216bc-dcd0-4246-8a53-9acbdfe06713"
      },
      "execution_count": 15,
      "outputs": [
        {
          "output_type": "error",
          "ename": "NameError",
          "evalue": "ignored",
          "traceback": [
            "\u001b[0;31m---------------------------------------------------------------------------\u001b[0m",
            "\u001b[0;31mNameError\u001b[0m                                 Traceback (most recent call last)",
            "\u001b[0;32m<ipython-input-15-cd72113afe49>\u001b[0m in \u001b[0;36m<module>\u001b[0;34m()\u001b[0m\n\u001b[0;32m----> 1\u001b[0;31m \u001b[0mprint\u001b[0m\u001b[0;34m(\u001b[0m\u001b[0mx_test\u001b[0m\u001b[0;34m.\u001b[0m\u001b[0mshape\u001b[0m\u001b[0;34m)\u001b[0m\u001b[0;34m\u001b[0m\u001b[0;34m\u001b[0m\u001b[0m\n\u001b[0m\u001b[1;32m      2\u001b[0m \u001b[0mprint\u001b[0m\u001b[0;34m(\u001b[0m\u001b[0my_test\u001b[0m\u001b[0;34m.\u001b[0m\u001b[0mshape\u001b[0m\u001b[0;34m)\u001b[0m\u001b[0;34m\u001b[0m\u001b[0;34m\u001b[0m\u001b[0m\n",
            "\u001b[0;31mNameError\u001b[0m: name 'x_test' is not defined"
          ]
        }
      ]
    },
    {
      "cell_type": "code",
      "source": [
        "# y_test"
      ],
      "metadata": {
        "colab": {
          "base_uri": "https://localhost:8080/"
        },
        "id": "PNDNp2ntBjNo",
        "outputId": "cf173fe2-d229-4c77-996e-a27983fd16fd"
      },
      "execution_count": null,
      "outputs": [
        {
          "output_type": "execute_result",
          "data": {
            "text/plain": [
              "array([0, 0, 0, ..., 4, 4, 4])"
            ]
          },
          "metadata": {},
          "execution_count": 160
        }
      ]
    },
    {
      "cell_type": "code",
      "source": [
        "# reshape for Conv2D\n",
        "x_train = X_train.reshape(X_train.shape[0], X_train.shape[1], 1, 1)\n",
        "x_test = X_test.reshape(X_test.shape[0], X_test.shape[1],1, 1)\n",
        "testx = testx.reshape(testx.shape[0],testx.shape[1],1,1)\n",
        "print(x_train.shape)\n",
        "print(x_test.shape)\n",
        "print(testx.shape)"
      ],
      "metadata": {
        "execution": {
          "iopub.status.busy": "2022-05-19T22:16:35.596886Z",
          "iopub.execute_input": "2022-05-19T22:16:35.597205Z",
          "iopub.status.idle": "2022-05-19T22:16:35.607799Z",
          "shell.execute_reply.started": "2022-05-19T22:16:35.597157Z",
          "shell.execute_reply": "2022-05-19T22:16:35.606855Z"
        },
        "trusted": true,
        "colab": {
          "base_uri": "https://localhost:8080/"
        },
        "id": "ciSmxn2Anm9s",
        "outputId": "91691744-649c-4089-b20b-b9758ce26dae"
      },
      "execution_count": 16,
      "outputs": [
        {
          "output_type": "stream",
          "name": "stdout",
          "text": [
            "(87554, 187, 1, 1)\n",
            "(21877, 187, 1, 1)\n",
            "(14, 187, 1, 1)\n"
          ]
        }
      ]
    },
    {
      "cell_type": "code",
      "source": [
        "# print(y_train.shape)\n",
        "# print(y_test.shape)\n",
        "# print(testy.shape)\n",
        "# testy = testy.reshape(testy.shape[0],5)\n",
        "# print(testy.shape)"
      ],
      "metadata": {
        "colab": {
          "base_uri": "https://localhost:8080/",
          "height": 270
        },
        "id": "EZid77B1wKPa",
        "outputId": "89243232-f2d4-457b-ad04-95f8295c3ece"
      },
      "execution_count": 17,
      "outputs": [
        {
          "output_type": "stream",
          "name": "stdout",
          "text": [
            "(87554,)\n",
            "(21877,)\n",
            "(14,)\n"
          ]
        },
        {
          "output_type": "error",
          "ename": "ValueError",
          "evalue": "ignored",
          "traceback": [
            "\u001b[0;31m---------------------------------------------------------------------------\u001b[0m",
            "\u001b[0;31mValueError\u001b[0m                                Traceback (most recent call last)",
            "\u001b[0;32m<ipython-input-17-a4e31066bce7>\u001b[0m in \u001b[0;36m<module>\u001b[0;34m()\u001b[0m\n\u001b[1;32m      2\u001b[0m \u001b[0mprint\u001b[0m\u001b[0;34m(\u001b[0m\u001b[0my_test\u001b[0m\u001b[0;34m.\u001b[0m\u001b[0mshape\u001b[0m\u001b[0;34m)\u001b[0m\u001b[0;34m\u001b[0m\u001b[0;34m\u001b[0m\u001b[0m\n\u001b[1;32m      3\u001b[0m \u001b[0mprint\u001b[0m\u001b[0;34m(\u001b[0m\u001b[0mtesty\u001b[0m\u001b[0;34m.\u001b[0m\u001b[0mshape\u001b[0m\u001b[0;34m)\u001b[0m\u001b[0;34m\u001b[0m\u001b[0;34m\u001b[0m\u001b[0m\n\u001b[0;32m----> 4\u001b[0;31m \u001b[0mtesty\u001b[0m \u001b[0;34m=\u001b[0m \u001b[0mtesty\u001b[0m\u001b[0;34m.\u001b[0m\u001b[0mreshape\u001b[0m\u001b[0;34m(\u001b[0m\u001b[0mtesty\u001b[0m\u001b[0;34m.\u001b[0m\u001b[0mshape\u001b[0m\u001b[0;34m[\u001b[0m\u001b[0;36m0\u001b[0m\u001b[0;34m]\u001b[0m\u001b[0;34m,\u001b[0m\u001b[0;36m5\u001b[0m\u001b[0;34m)\u001b[0m\u001b[0;34m\u001b[0m\u001b[0;34m\u001b[0m\u001b[0m\n\u001b[0m\u001b[1;32m      5\u001b[0m \u001b[0mprint\u001b[0m\u001b[0;34m(\u001b[0m\u001b[0mtesty\u001b[0m\u001b[0;34m.\u001b[0m\u001b[0mshape\u001b[0m\u001b[0;34m)\u001b[0m\u001b[0;34m\u001b[0m\u001b[0;34m\u001b[0m\u001b[0m\n",
            "\u001b[0;31mValueError\u001b[0m: cannot reshape array of size 14 into shape (14,5)"
          ]
        }
      ]
    },
    {
      "cell_type": "code",
      "source": [
        "from tensorflow.keras import utils\n",
        "y_train = utils.to_categorical(y_train)\n",
        "y_test  = utils.to_categorical(y_test)\n",
        "testy = utils.to_categorical(testy,num_classes=5)\n",
        "print(y_train.shape)\n",
        "print(y_test.shape)\n",
        "print(testy.shape)\n"
      ],
      "metadata": {
        "_uuid": "5ddf1e7b397de3c413fc991945d2d7f09df67da1",
        "execution": {
          "iopub.status.busy": "2022-05-19T22:16:35.609679Z",
          "iopub.execute_input": "2022-05-19T22:16:35.609994Z",
          "iopub.status.idle": "2022-05-19T22:16:43.729748Z",
          "shell.execute_reply.started": "2022-05-19T22:16:35.609953Z",
          "shell.execute_reply": "2022-05-19T22:16:43.728419Z"
        },
        "trusted": true,
        "colab": {
          "base_uri": "https://localhost:8080/"
        },
        "id": "8wwsZj_knm9u",
        "outputId": "0890e2c9-da09-4874-8750-1c976e6eabf0"
      },
      "execution_count": 18,
      "outputs": [
        {
          "output_type": "stream",
          "name": "stdout",
          "text": [
            "(87554, 5)\n",
            "(21877, 5)\n",
            "(14, 5)\n"
          ]
        }
      ]
    },
    {
      "cell_type": "markdown",
      "source": [
        "## Build Model"
      ],
      "metadata": {
        "_uuid": "c4de23b85abe34a726eab268171da0e827bafa35",
        "id": "J7gg6_kMnm9w"
      }
    },
    {
      "cell_type": "code",
      "source": [
        "input_shape = x_train.shape[1:]\n",
        "num_classes= 5"
      ],
      "metadata": {
        "_uuid": "fb0dc9775ddfa761c0ad948d59020fcbd2681c57",
        "execution": {
          "iopub.status.busy": "2022-05-19T22:16:43.731155Z",
          "iopub.execute_input": "2022-05-19T22:16:43.731421Z",
          "iopub.status.idle": "2022-05-19T22:16:43.736945Z",
          "shell.execute_reply.started": "2022-05-19T22:16:43.731389Z",
          "shell.execute_reply": "2022-05-19T22:16:43.735966Z"
        },
        "trusted": true,
        "id": "r80sPQRhnm9x"
      },
      "execution_count": 19,
      "outputs": []
    },
    {
      "cell_type": "code",
      "source": [
        "# Build Model \n",
        "# from tensorflow.keras import models, layers\n",
        "import keras \n",
        "from keras import models,layers\n",
        "inputs = layers.Input(shape=input_shape)\n",
        "x = layers.Conv2D(16, kernel_size=5, activation='relu', padding='same')(inputs)\n",
        "#x = layers.Conv2D(16, kernel_size=5, activation='relu', padding='same')(x)\n",
        "#x = layers.MaxPooling2D((2,2), padding='same')(x)\n",
        "\n",
        "x = layers.Flatten()(x)\n",
        "x = layers.Dense(16)(x)\n",
        "outputs = layers.Dense(num_classes, activation=\"softmax\")(x)\n",
        "\n",
        "model = models.Model(inputs=inputs, outputs=outputs)\n",
        "\n",
        "model.summary()"
      ],
      "metadata": {
        "_uuid": "e70fab0b07290e042ba9cd7c6cba37462a457b03",
        "execution": {
          "iopub.status.busy": "2022-05-19T22:16:43.738932Z",
          "iopub.execute_input": "2022-05-19T22:16:43.740517Z",
          "iopub.status.idle": "2022-05-19T22:16:43.904346Z",
          "shell.execute_reply.started": "2022-05-19T22:16:43.74047Z",
          "shell.execute_reply": "2022-05-19T22:16:43.902845Z"
        },
        "trusted": true,
        "colab": {
          "base_uri": "https://localhost:8080/"
        },
        "id": "WQpHdeWqnm9y",
        "outputId": "a7ed2d1f-413f-44f4-ace2-e96b3c9573b9"
      },
      "execution_count": null,
      "outputs": [
        {
          "output_type": "stream",
          "name": "stdout",
          "text": [
            "Model: \"model_7\"\n",
            "_________________________________________________________________\n",
            " Layer (type)                Output Shape              Param #   \n",
            "=================================================================\n",
            " input_8 (InputLayer)        [(None, 187, 1, 1)]       0         \n",
            "                                                                 \n",
            " conv2d_7 (Conv2D)           (None, 187, 1, 16)        416       \n",
            "                                                                 \n",
            " flatten_7 (Flatten)         (None, 2992)              0         \n",
            "                                                                 \n",
            " dense_14 (Dense)            (None, 16)                47888     \n",
            "                                                                 \n",
            " dense_15 (Dense)            (None, 5)                 85        \n",
            "                                                                 \n",
            "=================================================================\n",
            "Total params: 48,389\n",
            "Trainable params: 48,389\n",
            "Non-trainable params: 0\n",
            "_________________________________________________________________\n"
          ]
        }
      ]
    },
    {
      "cell_type": "code",
      "source": [
        "from tensorflow.keras.models import Sequential\n",
        "from tensorflow.keras.layers import InputLayer, Conv2D, Flatten, Dense\n",
        "smodel = Sequential()\n",
        "smodel.add(InputLayer(input_shape=input_shape))\n",
        "smodel.add(Conv2D(16, kernel_size=5, activation='relu', padding='same'))\n",
        "smodel.add(Flatten())\n",
        "smodel.add(Dense(16))\n",
        "smodel.add(Dense(num_classes,activation='softmax'))"
      ],
      "metadata": {
        "id": "SMvBJOJNuspY"
      },
      "execution_count": 20,
      "outputs": []
    },
    {
      "cell_type": "code",
      "source": [
        "# Compile Model\n",
        "smodel.compile(loss='categorical_crossentropy', optimizer='adam', metrics=['accuracy'])"
      ],
      "metadata": {
        "id": "f_-8Z3fC_qhy"
      },
      "execution_count": 21,
      "outputs": []
    },
    {
      "cell_type": "code",
      "source": [
        "# # Compile Model\n",
        "# model.compile(loss='categorical_crossentropy', optimizer='adam', metrics=['accuracy'])"
      ],
      "metadata": {
        "_uuid": "812e637ae56f6a4be9c8e98d3b501cfb11ef78cb",
        "execution": {
          "iopub.status.busy": "2022-05-19T22:16:43.905929Z",
          "iopub.execute_input": "2022-05-19T22:16:43.906226Z",
          "iopub.status.idle": "2022-05-19T22:16:43.923698Z",
          "shell.execute_reply.started": "2022-05-19T22:16:43.90619Z",
          "shell.execute_reply": "2022-05-19T22:16:43.922451Z"
        },
        "trusted": true,
        "id": "464a-HLunm9z"
      },
      "execution_count": null,
      "outputs": []
    },
    {
      "cell_type": "markdown",
      "source": [
        "## Train Model"
      ],
      "metadata": {
        "id": "9Ufqn5gznm90"
      }
    },
    {
      "cell_type": "code",
      "source": [
        "batch_size = 100\n",
        "num_epochs = 10 "
      ],
      "metadata": {
        "execution": {
          "iopub.status.busy": "2022-05-19T22:16:43.925433Z",
          "iopub.execute_input": "2022-05-19T22:16:43.926408Z",
          "iopub.status.idle": "2022-05-19T22:16:43.934431Z",
          "shell.execute_reply.started": "2022-05-19T22:16:43.926343Z",
          "shell.execute_reply": "2022-05-19T22:16:43.93321Z"
        },
        "trusted": true,
        "id": "vi2Gj_-mnm91"
      },
      "execution_count": 22,
      "outputs": []
    },
    {
      "cell_type": "code",
      "source": [
        "# Train Model\n",
        "shistory = smodel.fit(x_train, y_train, epochs=num_epochs, batch_size=batch_size, validation_data=(testx,testy))\n",
        "# shistory = smodel.fit(x_train, y_train, epochs=num_epochs, batch_size=batch_size, validation_data=(testx, testy))"
      ],
      "metadata": {
        "colab": {
          "base_uri": "https://localhost:8080/"
        },
        "id": "Cm-eyYcVbdYC",
        "outputId": "2526a049-98b6-4169-ac7a-f9b60eb7a095"
      },
      "execution_count": 23,
      "outputs": [
        {
          "output_type": "stream",
          "name": "stdout",
          "text": [
            "Epoch 1/10\n",
            "876/876 [==============================] - 15s 16ms/step - loss: 0.3502 - accuracy: 0.8986 - val_loss: 0.0856 - val_accuracy: 1.0000\n",
            "Epoch 2/10\n",
            "876/876 [==============================] - 17s 19ms/step - loss: 0.1942 - accuracy: 0.9477 - val_loss: 0.0575 - val_accuracy: 1.0000\n",
            "Epoch 3/10\n",
            "876/876 [==============================] - 14s 16ms/step - loss: 0.1616 - accuracy: 0.9562 - val_loss: 0.0439 - val_accuracy: 1.0000\n",
            "Epoch 4/10\n",
            "876/876 [==============================] - 15s 17ms/step - loss: 0.1479 - accuracy: 0.9598 - val_loss: 0.0342 - val_accuracy: 1.0000\n",
            "Epoch 5/10\n",
            "876/876 [==============================] - 15s 17ms/step - loss: 0.1394 - accuracy: 0.9620 - val_loss: 0.0286 - val_accuracy: 1.0000\n",
            "Epoch 6/10\n",
            "876/876 [==============================] - 14s 16ms/step - loss: 0.1337 - accuracy: 0.9635 - val_loss: 0.0259 - val_accuracy: 1.0000\n",
            "Epoch 7/10\n",
            "876/876 [==============================] - 14s 16ms/step - loss: 0.1286 - accuracy: 0.9652 - val_loss: 0.0377 - val_accuracy: 1.0000\n",
            "Epoch 8/10\n",
            "876/876 [==============================] - 14s 16ms/step - loss: 0.1242 - accuracy: 0.9660 - val_loss: 0.0062 - val_accuracy: 1.0000\n",
            "Epoch 9/10\n",
            "876/876 [==============================] - 15s 17ms/step - loss: 0.1207 - accuracy: 0.9665 - val_loss: 0.0419 - val_accuracy: 1.0000\n",
            "Epoch 10/10\n",
            "876/876 [==============================] - 14s 16ms/step - loss: 0.1174 - accuracy: 0.9677 - val_loss: 0.0498 - val_accuracy: 1.0000\n"
          ]
        }
      ]
    },
    {
      "cell_type": "code",
      "source": [
        "# Train Model\n",
        "history = model.fit(x_train, y_train, epochs=num_epochs, batch_size=batch_size, validation_data=(x_test, y_test))"
      ],
      "metadata": {
        "_uuid": "1e6ef643f6a55ab5b3c1b46126832c3ac45a6a2b",
        "execution": {
          "iopub.status.busy": "2022-05-19T22:16:43.935855Z",
          "iopub.execute_input": "2022-05-19T22:16:43.936195Z",
          "iopub.status.idle": "2022-05-19T22:17:46.319351Z",
          "shell.execute_reply.started": "2022-05-19T22:16:43.936158Z",
          "shell.execute_reply": "2022-05-19T22:17:46.318563Z"
        },
        "trusted": true,
        "colab": {
          "base_uri": "https://localhost:8080/"
        },
        "id": "l0kNBKCynm92",
        "outputId": "11c3fbe9-1b64-4593-9991-c42039c94d31"
      },
      "execution_count": null,
      "outputs": [
        {
          "output_type": "stream",
          "name": "stdout",
          "text": [
            "Epoch 1/10\n",
            "876/876 [==============================] - 14s 16ms/step - loss: 0.3484 - accuracy: 0.9008 - val_loss: 0.2313 - val_accuracy: 0.9342\n",
            "Epoch 2/10\n",
            "876/876 [==============================] - 14s 16ms/step - loss: 0.1936 - accuracy: 0.9476 - val_loss: 0.1843 - val_accuracy: 0.9511\n",
            "Epoch 3/10\n",
            "876/876 [==============================] - 14s 16ms/step - loss: 0.1630 - accuracy: 0.9562 - val_loss: 0.1642 - val_accuracy: 0.9555\n",
            "Epoch 4/10\n",
            "876/876 [==============================] - 14s 16ms/step - loss: 0.1486 - accuracy: 0.9598 - val_loss: 0.1587 - val_accuracy: 0.9568\n",
            "Epoch 5/10\n",
            "876/876 [==============================] - 14s 16ms/step - loss: 0.1412 - accuracy: 0.9619 - val_loss: 0.1446 - val_accuracy: 0.9604\n",
            "Epoch 6/10\n",
            "876/876 [==============================] - 14s 16ms/step - loss: 0.1351 - accuracy: 0.9631 - val_loss: 0.1457 - val_accuracy: 0.9623\n",
            "Epoch 7/10\n",
            "876/876 [==============================] - 14s 16ms/step - loss: 0.1303 - accuracy: 0.9645 - val_loss: 0.1371 - val_accuracy: 0.9632\n",
            "Epoch 8/10\n",
            "876/876 [==============================] - 14s 16ms/step - loss: 0.1263 - accuracy: 0.9660 - val_loss: 0.1340 - val_accuracy: 0.9641\n",
            "Epoch 9/10\n",
            "876/876 [==============================] - 14s 16ms/step - loss: 0.1210 - accuracy: 0.9672 - val_loss: 0.1315 - val_accuracy: 0.9651\n",
            "Epoch 10/10\n",
            "876/876 [==============================] - 14s 16ms/step - loss: 0.1183 - accuracy: 0.9679 - val_loss: 0.1285 - val_accuracy: 0.9658\n"
          ]
        }
      ]
    },
    {
      "cell_type": "markdown",
      "source": [
        "## Save Model"
      ],
      "metadata": {
        "id": "a5uqIeGmnm94"
      }
    },
    {
      "cell_type": "code",
      "source": [
        "# Save Model\n",
        "models.save_model(model, 'ecg_cnn.hdf5')"
      ],
      "metadata": {
        "execution": {
          "iopub.status.busy": "2022-05-19T22:17:46.320607Z",
          "iopub.execute_input": "2022-05-19T22:17:46.320842Z",
          "iopub.status.idle": "2022-05-19T22:17:46.359032Z",
          "shell.execute_reply.started": "2022-05-19T22:17:46.320813Z",
          "shell.execute_reply": "2022-05-19T22:17:46.358018Z"
        },
        "trusted": true,
        "id": "uxWI6jLbnm95"
      },
      "execution_count": null,
      "outputs": []
    },
    {
      "cell_type": "code",
      "source": [
        "score = smodel.evaluate(x_test,y_test,verbose=2)"
      ],
      "metadata": {
        "trusted": true,
        "colab": {
          "base_uri": "https://localhost:8080/"
        },
        "id": "siEFjCmynm-A",
        "outputId": "4ec11ef4-d661-4eab-d338-16764c76ba3d"
      },
      "execution_count": null,
      "outputs": [
        {
          "output_type": "stream",
          "name": "stdout",
          "text": [
            "684/684 - 2s - loss: 0.1343 - accuracy: 0.9645 - 2s/epoch - 3ms/step\n"
          ]
        }
      ]
    },
    {
      "cell_type": "code",
      "source": [
        ""
      ],
      "metadata": {
        "id": "A1IgIZyRcKlM"
      },
      "execution_count": null,
      "outputs": []
    }
  ]
}